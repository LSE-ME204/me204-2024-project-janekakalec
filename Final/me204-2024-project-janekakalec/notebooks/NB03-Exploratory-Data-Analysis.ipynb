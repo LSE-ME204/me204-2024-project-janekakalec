{
 "cells": [
  {
   "cell_type": "markdown",
   "metadata": {},
   "source": [
    "# Notebook #3: Exploratory Data Analysis"
   ]
  },
  {
   "cell_type": "code",
   "execution_count": null,
   "metadata": {},
   "outputs": [],
   "source": [
    "#!pip install numpy pandas numerize lets_plot"
   ]
  },
  {
   "cell_type": "code",
   "execution_count": 8,
   "metadata": {},
   "outputs": [
    {
     "data": {
      "text/html": [
       "\n",
       "            <div id=\"g8N8zh\"></div>\n",
       "            <script type=\"text/javascript\" data-lets-plot-script=\"library\">\n",
       "                if(!window.letsPlotCallQueue) {\n",
       "                    window.letsPlotCallQueue = [];\n",
       "                }; \n",
       "                window.letsPlotCall = function(f) {\n",
       "                    window.letsPlotCallQueue.push(f);\n",
       "                };\n",
       "                (function() {\n",
       "                    var script = document.createElement(\"script\");\n",
       "                    script.type = \"text/javascript\";\n",
       "                    script.src = \"https://cdn.jsdelivr.net/gh/JetBrains/lets-plot@v4.3.3/js-package/distr/lets-plot.min.js\";\n",
       "                    script.onload = function() {\n",
       "                        window.letsPlotCall = function(f) {f();};\n",
       "                        window.letsPlotCallQueue.forEach(function(f) {f();});\n",
       "                        window.letsPlotCallQueue = [];\n",
       "                        \n",
       "                    };\n",
       "                    script.onerror = function(event) {\n",
       "                        window.letsPlotCall = function(f) {};    // noop\n",
       "                        window.letsPlotCallQueue = [];\n",
       "                        var div = document.createElement(\"div\");\n",
       "                        div.style.color = 'darkred';\n",
       "                        div.textContent = 'Error loading Lets-Plot JS';\n",
       "                        document.getElementById(\"g8N8zh\").appendChild(div);\n",
       "                    };\n",
       "                    var e = document.getElementById(\"g8N8zh\");\n",
       "                    e.appendChild(script);\n",
       "                })()\n",
       "            </script>\n",
       "            "
      ]
     },
     "metadata": {},
     "output_type": "display_data"
    }
   ],
   "source": [
    "import numpy as np\n",
    "import pandas as pd\n",
    "import sqlite3\n",
    "\n",
    "from numerize import numerize as nz\n",
    "\n",
    "from lets_plot import * \n",
    "LetsPlot.setup_html()\n"
   ]
  },
  {
   "cell_type": "markdown",
   "metadata": {},
   "source": [
    "# 3.1 Connect to sqlite database "
   ]
  },
  {
   "cell_type": "code",
   "execution_count": 9,
   "metadata": {},
   "outputs": [],
   "source": [
    "\n",
    "conn = sqlite3.connect('../data/clean/Spotifyartist.db')\n",
    "\n",
    "df_artists = pd.read_sql('SELECT * FROM artists', conn)\n",
    "genres_df = pd.read_sql('SELECT * FROM genres', conn)\n",
    "\n",
    "df_merged = genres_df.merge(df_artists)\n",
    "\n",
    "pd.merge (df_artists, genres_df) \n",
    "\n",
    "\n",
    "conn.close()\n"
   ]
  },
  {
   "cell_type": "markdown",
   "metadata": {},
   "source": [
    "# 3.2 Create necessary dataframes and filter data"
   ]
  },
  {
   "cell_type": "code",
   "execution_count": 10,
   "metadata": {},
   "outputs": [
    {
     "name": "stdout",
     "output_type": "stream",
     "text": [
      "                      genres  followers_total\n",
      "9       contemporary country        119267500\n",
      "10                   country        100522978\n",
      "14              country road         75512918\n",
      "21       modern country rock         59825683\n",
      "6   classic oklahoma country         20119238\n",
      "24            outlaw country         19638533\n",
      "11              country dawn         13520456\n",
      "26                      rock         13041752\n",
      "20        modern country pop          9741905\n",
      "15              country rock          8970417\n"
     ]
    }
   ],
   "source": [
    "\n",
    "df_merged['genres'] = df_merged['genres'].str.split(', ')\n",
    "df_merged =df_merged.explode('genres')\n",
    "\n",
    "# Sum the total followers for each genre\n",
    "df_genre_followers = df_merged.groupby('genres', as_index=False)['followers_total'].sum()\n",
    "\n",
    "# Get the top 10 genres\n",
    "df_top_10_genres = df_genre_followers.nlargest(10, 'followers_total')\n",
    "\n",
    "print(df_top_10_genres)"
   ]
  },
  {
   "cell_type": "code",
   "execution_count": 11,
   "metadata": {},
   "outputs": [
    {
     "name": "stdout",
     "output_type": "stream",
     "text": [
      "                    name  popularity  followers_total\n",
      "38            Luke Combs          86         10911264\n",
      "20            Luke Bryan          76          8697929\n",
      "27            Kane Brown          75          5467138\n",
      "2           Thomas Rhett          74          4708139\n",
      "18  Florida Georgia Line          74          5422352\n",
      "24             Jon Pardi          74          2030314\n",
      "46         Blake Shelton          74          7172304\n",
      "49         George Strait          74          4380567\n",
      "6           Alan Jackson          73          2759900\n",
      "16          Dolly Parton          73          2534262\n"
     ]
    }
   ],
   "source": [
    "\n",
    "# Filter for artists with 'country' as the genre (excluding all other country variations)\n",
    "df_country_artists = df_merged[df_merged['genres'].str.lower() == 'country']\n",
    "\n",
    "# Get the top 10 most popular country artists\n",
    "df_top_10_country_artists = df_country_artists.nlargest(10, 'popularity')\n",
    "\n",
    "print(df_top_10_country_artists[['name', 'popularity', 'followers_total']])\n"
   ]
  },
  {
   "cell_type": "markdown",
   "metadata": {},
   "source": [
    "# 3.3 Who is the most popular \"country\" artist?"
   ]
  },
  {
   "cell_type": "code",
   "execution_count": 26,
   "metadata": {},
   "outputs": [
    {
     "data": {
      "text/html": [
       "   <div id=\"kbQGq0\"></div>\n",
       "   <script type=\"text/javascript\" data-lets-plot-script=\"plot\">\n",
       "       (function() {\n",
       "           var plotSpec={\n",
       "\"data\":{\n",
       "\"followers_total\":[1.0911264E7,8697929.0,5467138.0,4708139.0,5422352.0,2030314.0,7172304.0,4380567.0,2759900.0,2534262.0],\n",
       "\"name\":[\"Luke Combs\",\"Luke Bryan\",\"Kane Brown\",\"Thomas Rhett\",\"Florida Georgia Line\",\"Jon Pardi\",\"Blake Shelton\",\"George Strait\",\"Alan Jackson\",\"Dolly Parton\"]\n",
       "},\n",
       "\"mapping\":{\n",
       "\"x\":\"name\",\n",
       "\"y\":\"followers_total\",\n",
       "\"fill\":\"name\"\n",
       "},\n",
       "\"data_meta\":{\n",
       "},\n",
       "\"theme\":{\n",
       "\"name\":\"minimal\",\n",
       "\"axis_text_x\":{\n",
       "\"angle\":90.0,\n",
       "\"hjust\":1.0,\n",
       "\"blank\":false\n",
       "}\n",
       "},\n",
       "\"ggtitle\":{\n",
       "\"text\":\"Top 10 Most Popular Country Artists\"\n",
       "},\n",
       "\"kind\":\"plot\",\n",
       "\"scales\":[{\n",
       "\"aesthetic\":\"fill\",\n",
       "\"scale_mapper_kind\":\"color_cmap\"\n",
       "},{\n",
       "\"name\":\"Artist Name\",\n",
       "\"aesthetic\":\"x\"\n",
       "},{\n",
       "\"name\":\"Number of followers\",\n",
       "\"aesthetic\":\"y\"\n",
       "},{\n",
       "\"name\":\"Artist Name\",\n",
       "\"aesthetic\":\"color\"\n",
       "}],\n",
       "\"layers\":[{\n",
       "\"geom\":\"bar\",\n",
       "\"stat\":\"identity\",\n",
       "\"mapping\":{\n",
       "},\n",
       "\"data_meta\":{\n",
       "},\n",
       "\"data\":{\n",
       "}\n",
       "}],\n",
       "\"metainfo_list\":[]\n",
       "};\n",
       "           var plotContainer = document.getElementById(\"kbQGq0\");\n",
       "           window.letsPlotCall(function() {{\n",
       "               LetsPlot.buildPlotFromProcessedSpecs(plotSpec, -1, -1, plotContainer);\n",
       "           }});\n",
       "       })();\n",
       "   </script>"
      ]
     },
     "metadata": {},
     "output_type": "display_data"
    },
    {
     "data": {
      "text/plain": [
       "'/Users/janekakalec/Desktop/Final/me204-2024-project-janekakalec/docs/figures/most_popular_artists.svg'"
      ]
     },
     "execution_count": 26,
     "metadata": {},
     "output_type": "execute_result"
    }
   ],
   "source": [
    "# Graph 1 showing most popular specifically \"country\" artists\n",
    "\n",
    "most_popular_artists=(\n",
    "    ggplot(data=df_top_10_country_artists, mapping=aes(\n",
    "                    x='name', \n",
    "                    y='followers_total', \n",
    "                    fill = 'name')\n",
    "          ) +\n",
    "    geom_bar(stat = 'identity') +\n",
    "    scale_fill_viridis() +\n",
    "    theme_minimal() +\n",
    "    theme(axis_text_x=element_text(angle=90, hjust=1)) +\n",
    "    labs(\n",
    "        title='Top 10 Most Popular Country Artists', \n",
    "        x='Artist Name',\n",
    "        y='Number of followers',\n",
    "        color='Artist Name'\n",
    "    )\n",
    ")\n",
    "most_popular_artists.show()\n",
    "\n",
    "#Save the plot to the figures folder\n",
    "ggsave(plot=most_popular_artists, filename='most_popular_artists.svg', path='../docs/figures/')\n"
   ]
  },
  {
   "cell_type": "markdown",
   "metadata": {},
   "source": [
    "# 3.4 What divison of country music has the most followers?"
   ]
  },
  {
   "cell_type": "code",
   "execution_count": 23,
   "metadata": {},
   "outputs": [
    {
     "data": {
      "text/html": [
       "   <div id=\"cXyfTa\"></div>\n",
       "   <script type=\"text/javascript\" data-lets-plot-script=\"plot\">\n",
       "       (function() {\n",
       "           var plotSpec={\n",
       "\"data\":{\n",
       "\"genres\":[\"contemporary country\",\"country\",\"country road\",\"modern country rock\",\"classic oklahoma country\",\"outlaw country\",\"country dawn\",\"rock\",\"modern country pop\",\"country rock\"],\n",
       "\"followers_total\":[1.192675E8,1.00522978E8,7.5512918E7,5.9825683E7,2.0119238E7,1.9638533E7,1.3520456E7,1.3041752E7,9741905.0,8970417.0]\n",
       "},\n",
       "\"mapping\":{\n",
       "\"x\":\"genres\",\n",
       "\"y\":\"followers_total\",\n",
       "\"fill\":\"genres\"\n",
       "},\n",
       "\"data_meta\":{\n",
       "},\n",
       "\"theme\":{\n",
       "\"axis_text_x\":{\n",
       "\"angle\":90.0,\n",
       "\"hjust\":1.0,\n",
       "\"blank\":false\n",
       "}\n",
       "},\n",
       "\"ggtitle\":{\n",
       "\"text\":\"Top 10 Country Genres by Total Followers\"\n",
       "},\n",
       "\"kind\":\"plot\",\n",
       "\"scales\":[{\n",
       "\"aesthetic\":\"fill\",\n",
       "\"scale_mapper_kind\":\"color_cmap\"\n",
       "},{\n",
       "\"name\":\"Country Genre\",\n",
       "\"aesthetic\":\"x\"\n",
       "},{\n",
       "\"name\":\"Number of Followers\",\n",
       "\"aesthetic\":\"y\"\n",
       "}],\n",
       "\"layers\":[{\n",
       "\"geom\":\"bar\",\n",
       "\"stat\":\"identity\",\n",
       "\"mapping\":{\n",
       "},\n",
       "\"data_meta\":{\n",
       "},\n",
       "\"data\":{\n",
       "}\n",
       "}],\n",
       "\"metainfo_list\":[]\n",
       "};\n",
       "           var plotContainer = document.getElementById(\"cXyfTa\");\n",
       "           window.letsPlotCall(function() {{\n",
       "               LetsPlot.buildPlotFromProcessedSpecs(plotSpec, -1, -1, plotContainer);\n",
       "           }});\n",
       "       })();\n",
       "   </script>"
      ]
     },
     "metadata": {},
     "output_type": "display_data"
    },
    {
     "data": {
      "text/plain": [
       "'/Users/janekakalec/Desktop/Final/me204-2024-project-janekakalec/docs/figures/top_genres_chart.svg'"
      ]
     },
     "execution_count": 23,
     "metadata": {},
     "output_type": "execute_result"
    }
   ],
   "source": [
    "#Create chart to show the top genres in country music\n",
    "\n",
    "top_genres_chart = (\n",
    "    ggplot(df_top_10_genres, mapping=aes(\n",
    "                    x='genres', \n",
    "                    y='followers_total',\n",
    "                    fill='genres')\n",
    "          ) +\n",
    "    geom_bar(stat='identity') +\n",
    "    scale_fill_viridis() +\n",
    "    theme(axis_text_x=element_text(angle=90, hjust=1)) +\n",
    "    labs(\n",
    "        title='Top 10 Country Genres by Total Followers',\n",
    "        x='Country Genre',\n",
    "        y='Number of Followers'\n",
    "    )\n",
    ")\n",
    "\n",
    "# Display the bar chart\n",
    "top_genres_chart.show()\n",
    "\n",
    "#Save the chart to the figures folder\n",
    "ggsave(plot=top_genres_chart, filename='top_genres_chart.svg', path='../docs/figures/')\n"
   ]
  }
 ],
 "metadata": {
  "kernelspec": {
   "display_name": "base",
   "language": "python",
   "name": "python3"
  },
  "language_info": {
   "codemirror_mode": {
    "name": "ipython",
    "version": 3
   },
   "file_extension": ".py",
   "mimetype": "text/x-python",
   "name": "python",
   "nbconvert_exporter": "python",
   "pygments_lexer": "ipython3",
   "version": "3.12.2"
  }
 },
 "nbformat": 4,
 "nbformat_minor": 2
}
