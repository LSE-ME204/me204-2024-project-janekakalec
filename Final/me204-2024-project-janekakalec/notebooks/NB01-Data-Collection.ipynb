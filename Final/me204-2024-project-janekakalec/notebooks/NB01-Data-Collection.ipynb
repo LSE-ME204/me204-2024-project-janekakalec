{
 "cells": [
  {
   "cell_type": "markdown",
   "metadata": {},
   "source": [
    "# Notebook #1: Data Collection"
   ]
  },
  {
   "cell_type": "markdown",
   "metadata": {},
   "source": [
    "Imports"
   ]
  },
  {
   "cell_type": "code",
   "execution_count": 63,
   "metadata": {},
   "outputs": [],
   "source": [
    "import os\n",
    "import json\n",
    "import requests\n",
    "import base64\n",
    "\n",
    "import pandas as pd"
   ]
  },
  {
   "cell_type": "markdown",
   "metadata": {},
   "source": [
    "# 1.1 Loading Credentials and getting access token"
   ]
  },
  {
   "cell_type": "markdown",
   "metadata": {},
   "source": [
    "1.1a Load Json Credentials File"
   ]
  },
  {
   "cell_type": "code",
   "execution_count": 70,
   "metadata": {},
   "outputs": [],
   "source": [
    "credentials_file_path = \"./credentials.json\"\n",
    "\n",
    "\n",
    "with open(credentials_file_path, \"r\") as f:\n",
    "   credentials = json.load(f)\n",
    "   app_client_id = credentials['app_client_id']\n",
    "   app_client_secret = credentials['app_client_secret']\n"
   ]
  },
  {
   "cell_type": "code",
   "execution_count": 71,
   "metadata": {},
   "outputs": [],
   "source": [
    "#athentication process\n",
    "auth_str = f\"{app_client_id}:{app_client_secret}\"\n",
    "auth_bytes = auth_str.encode('ascii')\n",
    "auth_base64 = base64.b64encode(auth_bytes).decode('ascii')\n"
   ]
  },
  {
   "cell_type": "markdown",
   "metadata": {},
   "source": [
    "1.1c Use access token to make request"
   ]
  },
  {
   "cell_type": "code",
   "execution_count": 72,
   "metadata": {},
   "outputs": [],
   "source": [
    "Access_token = 'https://accounts.spotify.com/api/token'\n",
    "\n",
    "headers = {\n",
    "    'Authorization': f'Basic {auth_base64}',\n",
    "    'Content-Type': 'application/x-www-form-urlencoded'\n",
    "}\n",
    "payload = {\n",
    "    'grant_type': 'client_credentials'\n",
    "}\n",
    "\n",
    "# Make the POST request to get the access token\n",
    "response = requests.post(Access_token, headers=headers, data=payload)"
   ]
  },
  {
   "cell_type": "code",
   "execution_count": 73,
   "metadata": {},
   "outputs": [
    {
     "name": "stdout",
     "output_type": "stream",
     "text": [
      "{\n",
      "    \"access_token\": \"BQBwgZTZ6sktusGJoCp9Y5xGUMOEtj7DEccFQEUwtfQ7DLP8_FT0ehzPOlI2Yq4Ur7sKwn8oFW_Aqvzk8DGlnf_dHQVAajjlxmvKVulKagbpIsHKRTo\",\n",
      "    \"token_type\": \"Bearer\",\n",
      "    \"expires_in\": 3600\n",
      "}\n",
      "BQBwgZTZ6sktusGJoCp9Y5xGUMOEtj7DEccFQEUwtfQ7DLP8_FT0ehzPOlI2Yq4Ur7sKwn8oFW_Aqvzk8DGlnf_dHQVAajjlxmvKVulKagbpIsHKRTo\n"
     ]
    }
   ],
   "source": [
    "if response.status_code == 200:\n",
    "    # Parsing the JSON response\n",
    "    data = response.json()\n",
    "    token = data.get(\"access_token\")\n",
    "    \n",
    "    \n",
    "    print(json.dumps(data, indent=4)) \n",
    "    print(token) \n",
    "else:\n",
    "    print(f\"Failed to retrieve data: {response.status_code}\")\n",
    "    print(response.text)  # Print the error message"
   ]
  },
  {
   "cell_type": "markdown",
   "metadata": {},
   "source": [
    "# 1.2 Retrieve Artist Data"
   ]
  },
  {
   "cell_type": "code",
   "execution_count": 77,
   "metadata": {},
   "outputs": [],
   "source": [
    "#function to retrieve data about 50 country artists\n",
    "\n",
    "def get_artists_info(token):\n",
    "    url = 'https://api.spotify.com/v1/search'\n",
    "    headers = {'Authorization': f'Bearer {token}'}\n",
    "    params = {\n",
    "        \"q\": \"genre:country\",\n",
    "        \"type\": \"artist\",\n",
    "        \"limit\": 50\n",
    "    }\n",
    "\n",
    "    # Make the GET request to the Spotify API\n",
    "    response = requests.get(url, headers=headers, params=params)\n",
    "    \n",
    "    if response.status_code == 200:\n",
    "        data = response.json()\n",
    "        return data\n",
    "    else:\n",
    "        print(f\"Failed to retrieve data: {response.status_code}\")\n",
    "        print(response.text)\n",
    "        return None\n"
   ]
  },
  {
   "cell_type": "markdown",
   "metadata": {},
   "source": [
    "# 1.3 Store data in JSON files"
   ]
  },
  {
   "cell_type": "code",
   "execution_count": 78,
   "metadata": {},
   "outputs": [
    {
     "name": "stdout",
     "output_type": "stream",
     "text": [
      "Artist information saved to ../data/raw/artist_Zach_Bryan.json\n",
      "Artist information saved to ../data/raw/artist_Morgan_Wallen.json\n",
      "Artist information saved to ../data/raw/artist_Luke_Combs.json\n",
      "Artist information saved to ../data/raw/artist_Chris_Stapleton.json\n",
      "Artist information saved to ../data/raw/artist_Jelly_Roll.json\n",
      "Artist information saved to ../data/raw/artist_Tyler_Childers.json\n",
      "Artist information saved to ../data/raw/artist_Creedence_Clearwater_Revival.json\n",
      "Artist information saved to ../data/raw/artist_Luke_Bryan.json\n",
      "Artist information saved to ../data/raw/artist_HARDY.json\n",
      "Artist information saved to ../data/raw/artist_Koe_Wetzel.json\n",
      "Artist information saved to ../data/raw/artist_Cody_Johnson.json\n",
      "Artist information saved to ../data/raw/artist_Megan_Moroney.json\n",
      "Artist information saved to ../data/raw/artist_Kacey_Musgraves.json\n",
      "Artist information saved to ../data/raw/artist_Bailey_Zimmerman.json\n",
      "Artist information saved to ../data/raw/artist_George_Strait.json\n",
      "Artist information saved to ../data/raw/artist_Riley_Green.json\n",
      "Artist information saved to ../data/raw/artist_Kenny_Chesney.json\n",
      "Artist information saved to ../data/raw/artist_Jason_Aldean.json\n",
      "Artist information saved to ../data/raw/artist_Jon_Pardi.json\n",
      "Artist information saved to ../data/raw/artist_Kane_Brown.json\n",
      "Artist information saved to ../data/raw/artist_Jordan_Davis.json\n",
      "Artist information saved to ../data/raw/artist_Thomas_Rhett.json\n",
      "Artist information saved to ../data/raw/artist_Zac_Brown_Band.json\n",
      "Artist information saved to ../data/raw/artist_Eric_Church.json\n",
      "Artist information saved to ../data/raw/artist_Toby_Keith.json\n",
      "Artist information saved to ../data/raw/artist_Blake_Shelton.json\n",
      "Artist information saved to ../data/raw/artist_Lainey_Wilson.json\n",
      "Artist information saved to ../data/raw/artist_Florida_Georgia_Line.json\n",
      "Artist information saved to ../data/raw/artist_Jessie_Murph.json\n",
      "Artist information saved to ../data/raw/artist_Treaty_Oak_Revival.json\n",
      "Artist information saved to ../data/raw/artist_ERNEST.json\n",
      "Artist information saved to ../data/raw/artist_Johnny_Cash.json\n",
      "Artist information saved to ../data/raw/artist_Tim_McGraw.json\n",
      "Artist information saved to ../data/raw/artist_Alan_Jackson.json\n",
      "Artist information saved to ../data/raw/artist_Warren_Zeiders.json\n",
      "Artist information saved to ../data/raw/artist_Brooks_&_Dunn.json\n",
      "Artist information saved to ../data/raw/artist_Dylan_Scott.json\n",
      "Artist information saved to ../data/raw/artist_Old_Dominion.json\n",
      "Artist information saved to ../data/raw/artist_Willie_Nelson.json\n",
      "Artist information saved to ../data/raw/artist_Tucker_Wetmore.json\n",
      "Artist information saved to ../data/raw/artist_Bryan_Martin.json\n",
      "Artist information saved to ../data/raw/artist_The_Red_Clay_Strays.json\n",
      "Artist information saved to ../data/raw/artist_Lee_Brice.json\n",
      "Artist information saved to ../data/raw/artist_Miranda_Lambert.json\n",
      "Artist information saved to ../data/raw/artist_Dolly_Parton.json\n",
      "Artist information saved to ../data/raw/artist_Sam_Hunt.json\n",
      "Artist information saved to ../data/raw/artist_Colter_Wall.json\n",
      "Artist information saved to ../data/raw/artist_Carrie_Underwood.json\n",
      "Artist information saved to ../data/raw/artist_Nate_Smith.json\n",
      "Artist information saved to ../data/raw/artist_Ella_Langley.json\n"
     ]
    }
   ],
   "source": [
    "\n",
    "output_file_path = '../data/raw'   #declare path to store raw data\n",
    "artists_data = get_artists_info(token)\n",
    "\n",
    "if artists_data:  # Check if data is not None\n",
    "    artists = artists_data.get('artists', {}).get('items', [])\n",
    "    for artist in artists:\n",
    "        artist_id = artist['id']\n",
    "        artist_name = artist['name']\n",
    "        # Create a filename for each artist\n",
    "        filename = f\"artist_{artist_name.replace(' ', '_')}.json\"\n",
    "        filepath = os.path.join(output_file_path, filename)\n",
    "        \n",
    "        # Save the artist data to a JSON file\n",
    "        with open(filepath, 'w') as outfile:\n",
    "            json.dump(artist, outfile, indent=4)\n",
    "            # Print the file path to confirm\n",
    "            print(f\"Artist information saved to {filepath}\")\n",
    "else:\n",
    "    print(\"No data to save.\")"
   ]
  }
 ],
 "metadata": {
  "kernelspec": {
   "display_name": "base",
   "language": "python",
   "name": "python3"
  },
  "language_info": {
   "codemirror_mode": {
    "name": "ipython",
    "version": 3
   },
   "file_extension": ".py",
   "mimetype": "text/x-python",
   "name": "python",
   "nbconvert_exporter": "python",
   "pygments_lexer": "ipython3",
   "version": "3.12.2"
  }
 },
 "nbformat": 4,
 "nbformat_minor": 2
}
